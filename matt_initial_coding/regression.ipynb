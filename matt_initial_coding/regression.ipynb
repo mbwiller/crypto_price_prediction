{
 "cells": [
  {
   "cell_type": "code",
   "execution_count": 8,
   "id": "067a5411",
   "metadata": {},
   "outputs": [],
   "source": [
    "import pandas as pd\n",
    "from sklearn.linear_model import LinearRegression\n",
    "from scipy.stats import pearsonr\n",
    "import matplotlib.pyplot as plt\n",
    "import pyarrow\n",
    "import numpy as np"
   ]
  },
  {
   "cell_type": "code",
   "execution_count": 3,
   "id": "aa13c463",
   "metadata": {},
   "outputs": [
    {
     "name": "stdout",
     "output_type": "stream",
     "text": [
      "Train head:\n",
      "                     bid_qty  ask_qty  buy_qty  sell_qty   volume        X1  \\\n",
      "2023-03-01 00:00:00   15.283    8.425  176.405    44.984  221.389  0.181844   \n",
      "2023-03-01 00:01:00   38.590    2.336  525.846   321.950  847.796  0.489497   \n",
      "2023-03-01 00:02:00    0.442   60.250  159.227   136.369  295.596  0.260121   \n",
      "2023-03-01 00:03:00    4.865   21.016  335.742   124.963  460.705  0.099976   \n",
      "2023-03-01 00:04:00   27.158    3.451   98.411    44.407  142.818  0.270893   \n",
      "\n",
      "                           X2        X3        X4        X5  ...      X772  \\\n",
      "2023-03-01 00:00:00 -0.637860  0.006652  0.136870  0.116698  ...  0.333753   \n",
      "2023-03-01 00:01:00 -0.075619  0.431594  0.522400  0.475255  ...  0.333657   \n",
      "2023-03-01 00:02:00 -0.444684  0.100695  0.224729  0.203282  ...  0.333667   \n",
      "2023-03-01 00:03:00 -0.666728 -0.123858  0.019197  0.014459  ...  0.333174   \n",
      "2023-03-01 00:04:00 -0.325973  0.116336  0.234311  0.214073  ...  0.333171   \n",
      "\n",
      "                         X773      X774      X775      X776      X777  \\\n",
      "2023-03-01 00:00:00 -0.009992 -0.695595 -0.444077 -0.191238 -0.184251   \n",
      "2023-03-01 00:01:00 -0.010040 -0.696226 -0.452866 -0.200082 -0.188929   \n",
      "2023-03-01 00:02:00 -0.010037 -0.696832 -0.461383 -0.208786 -0.193571   \n",
      "2023-03-01 00:03:00 -0.010279 -0.697391 -0.469628 -0.217350 -0.198175   \n",
      "2023-03-01 00:04:00 -0.010283 -0.697940 -0.477622 -0.225780 -0.202745   \n",
      "\n",
      "                         X778      X779      X780     label  \n",
      "2023-03-01 00:00:00 -0.471897 -0.625428 -0.553991  0.562539  \n",
      "2023-03-01 00:01:00 -0.472842 -0.625832 -0.554426  0.533686  \n",
      "2023-03-01 00:02:00 -0.473785 -0.626236 -0.554860  0.546505  \n",
      "2023-03-01 00:03:00 -0.474726 -0.626639 -0.555294  0.357703  \n",
      "2023-03-01 00:04:00 -0.475666 -0.627043 -0.555728  0.362452  \n",
      "\n",
      "[5 rows x 786 columns]\n",
      "\n",
      "Test head:\n",
      "    bid_qty  ask_qty  buy_qty  sell_qty   volume        X1        X2  \\\n",
      "ID                                                                     \n",
      "1     0.317    8.102   13.164    10.272   23.436 -0.341229  0.041851   \n",
      "2     2.608    2.111  123.562    40.163  163.725 -1.029564 -1.382505   \n",
      "3     2.768   10.787  126.137   118.266  244.403 -2.594090 -5.486158   \n",
      "4     0.948   12.157   16.069    31.723   47.792  0.240745  0.997585   \n",
      "5     1.084    3.493   32.679    37.327   70.006  0.067189  0.772852   \n",
      "\n",
      "          X3        X4        X5  ...      X772      X773      X774      X775  \\\n",
      "ID                                ...                                           \n",
      "1  -0.020094 -0.206221 -0.297124  ... -0.147911 -0.043417  1.521787  1.548965   \n",
      "2  -1.214935 -1.020241 -0.960397  ... -0.126703 -0.077090 -0.703054 -0.716951   \n",
      "3  -4.744466 -3.930152 -3.275324  ... -0.147750 -0.030627 -0.703514 -0.717525   \n",
      "4   1.028965  1.081052  0.811895  ... -0.136737 -0.033380  1.521167  1.551771   \n",
      "5   0.772152  0.714846  0.514422  ... -0.218991 -0.004915 -0.703161 -0.716900   \n",
      "\n",
      "        X776      X777      X778      X779      X780  label  \n",
      "ID                                                           \n",
      "1   1.495735  1.166730  0.281056 -0.187831 -0.599553      0  \n",
      "2  -0.721292 -0.674619 -0.639318 -0.736268 -0.862220      0  \n",
      "3  -0.731701 -0.750998 -0.789366 -0.850941 -1.033131      0  \n",
      "4   1.582833  1.625830  1.762155  1.911924  1.962445      0  \n",
      "5  -0.714699 -0.652209 -0.623165 -0.699887 -0.640094      0  \n",
      "\n",
      "[5 rows x 786 columns]\n"
     ]
    }
   ],
   "source": [
    "# Load datasets\n",
    "train = pd.read_parquet(r'C:\\Users\\Matt Willer\\Downloads\\drw-crypto-market-prediction\\train.parquet', engine='pyarrow')\n",
    "test = pd.read_parquet(r'C:\\Users\\Matt Willer\\Downloads\\drw-crypto-market-prediction\\test.parquet', engine='pyarrow')\n",
    "\n",
    "# Show heads\n",
    "print(\"Train head:\")\n",
    "print(train.head())\n",
    "print(\"\\nTest head:\")\n",
    "print(test.head())"
   ]
  },
  {
   "cell_type": "code",
   "execution_count": 6,
   "id": "a0633f40",
   "metadata": {},
   "outputs": [
    {
     "name": "stdout",
     "output_type": "stream",
     "text": [
      "Validation Pearson r = 0.0989 (p = 9.6e-227)\n"
     ]
    }
   ],
   "source": [
    "# Prepare features and target\n",
    "df = train\n",
    "X = df.drop(columns=['label'])\n",
    "y = df['label']\n",
    "\n",
    "# time‑based split\n",
    "split_idx = int(len(df)*0.8)\n",
    "X_tr, X_val = X.iloc[:split_idx], X.iloc[split_idx:]\n",
    "y_tr, y_val = y.iloc[:split_idx], y.iloc[split_idx:]\n",
    "\n",
    "# fit\n",
    "model = LinearRegression()\n",
    "model.fit(X_tr, y_tr)\n",
    "\n",
    "# predict & evaluate\n",
    "val_preds = model.predict(X_val)\n",
    "corr, pval = pearsonr(y_val, val_preds)\n",
    "print(f'Validation Pearson r = {corr:.4f} (p = {pval:.2g})')"
   ]
  },
  {
   "cell_type": "code",
   "execution_count": 10,
   "id": "5b140316",
   "metadata": {},
   "outputs": [
    {
     "name": "stdout",
     "output_type": "stream",
     "text": [
      "Ridge  R: 0.0899\n"
     ]
    },
    {
     "name": "stderr",
     "output_type": "stream",
     "text": [
      "c:\\Users\\Matt Willer\\AppData\\Local\\Programs\\Python\\Python313\\Lib\\site-packages\\sklearn\\linear_model\\_coordinate_descent.py:681: ConvergenceWarning: Objective did not converge. You might want to increase the number of iterations, check the scale of the features or consider increasing regularisation. Duality gap: 1.363e+02, tolerance: 2.864e+01\n",
      "  model = cd_fast.enet_coordinate_descent_gram(\n",
      "c:\\Users\\Matt Willer\\AppData\\Local\\Programs\\Python\\Python313\\Lib\\site-packages\\sklearn\\linear_model\\_coordinate_descent.py:681: ConvergenceWarning: Objective did not converge. You might want to increase the number of iterations, check the scale of the features or consider increasing regularisation. Duality gap: 1.188e+02, tolerance: 2.772e+01\n",
      "  model = cd_fast.enet_coordinate_descent_gram(\n",
      "c:\\Users\\Matt Willer\\AppData\\Local\\Programs\\Python\\Python313\\Lib\\site-packages\\sklearn\\linear_model\\_coordinate_descent.py:681: ConvergenceWarning: Objective did not converge. You might want to increase the number of iterations, check the scale of the features or consider increasing regularisation. Duality gap: 4.185e+01, tolerance: 2.811e+01\n",
      "  model = cd_fast.enet_coordinate_descent_gram(\n",
      "c:\\Users\\Matt Willer\\AppData\\Local\\Programs\\Python\\Python313\\Lib\\site-packages\\sklearn\\linear_model\\_coordinate_descent.py:681: ConvergenceWarning: Objective did not converge. You might want to increase the number of iterations, check the scale of the features or consider increasing regularisation. Duality gap: 4.275e+02, tolerance: 2.864e+01\n",
      "  model = cd_fast.enet_coordinate_descent_gram(\n",
      "c:\\Users\\Matt Willer\\AppData\\Local\\Programs\\Python\\Python313\\Lib\\site-packages\\sklearn\\linear_model\\_coordinate_descent.py:681: ConvergenceWarning: Objective did not converge. You might want to increase the number of iterations, check the scale of the features or consider increasing regularisation. Duality gap: 3.817e+02, tolerance: 2.772e+01\n",
      "  model = cd_fast.enet_coordinate_descent_gram(\n",
      "c:\\Users\\Matt Willer\\AppData\\Local\\Programs\\Python\\Python313\\Lib\\site-packages\\sklearn\\linear_model\\_coordinate_descent.py:681: ConvergenceWarning: Objective did not converge. You might want to increase the number of iterations, check the scale of the features or consider increasing regularisation. Duality gap: 2.933e+02, tolerance: 2.811e+01\n",
      "  model = cd_fast.enet_coordinate_descent_gram(\n",
      "c:\\Users\\Matt Willer\\AppData\\Local\\Programs\\Python\\Python313\\Lib\\site-packages\\sklearn\\linear_model\\_coordinate_descent.py:681: ConvergenceWarning: Objective did not converge. You might want to increase the number of iterations, check the scale of the features or consider increasing regularisation. Duality gap: 1.042e+02, tolerance: 2.864e+01\n",
      "  model = cd_fast.enet_coordinate_descent_gram(\n",
      "c:\\Users\\Matt Willer\\AppData\\Local\\Programs\\Python\\Python313\\Lib\\site-packages\\sklearn\\linear_model\\_coordinate_descent.py:681: ConvergenceWarning: Objective did not converge. You might want to increase the number of iterations, check the scale of the features or consider increasing regularisation. Duality gap: 2.072e+03, tolerance: 2.772e+01\n",
      "  model = cd_fast.enet_coordinate_descent_gram(\n",
      "c:\\Users\\Matt Willer\\AppData\\Local\\Programs\\Python\\Python313\\Lib\\site-packages\\sklearn\\linear_model\\_coordinate_descent.py:681: ConvergenceWarning: Objective did not converge. You might want to increase the number of iterations, check the scale of the features or consider increasing regularisation. Duality gap: 1.269e+03, tolerance: 2.811e+01\n",
      "  model = cd_fast.enet_coordinate_descent_gram(\n",
      "c:\\Users\\Matt Willer\\AppData\\Local\\Programs\\Python\\Python313\\Lib\\site-packages\\sklearn\\linear_model\\_coordinate_descent.py:681: ConvergenceWarning: Objective did not converge. You might want to increase the number of iterations, check the scale of the features or consider increasing regularisation. Duality gap: 4.206e+03, tolerance: 2.864e+01\n",
      "  model = cd_fast.enet_coordinate_descent_gram(\n",
      "c:\\Users\\Matt Willer\\AppData\\Local\\Programs\\Python\\Python313\\Lib\\site-packages\\sklearn\\linear_model\\_coordinate_descent.py:681: ConvergenceWarning: Objective did not converge. You might want to increase the number of iterations, check the scale of the features or consider increasing regularisation. Duality gap: 1.299e+04, tolerance: 2.772e+01\n",
      "  model = cd_fast.enet_coordinate_descent_gram(\n",
      "c:\\Users\\Matt Willer\\AppData\\Local\\Programs\\Python\\Python313\\Lib\\site-packages\\sklearn\\linear_model\\_coordinate_descent.py:681: ConvergenceWarning: Objective did not converge. You might want to increase the number of iterations, check the scale of the features or consider increasing regularisation. Duality gap: 4.568e+03, tolerance: 2.811e+01\n",
      "  model = cd_fast.enet_coordinate_descent_gram(\n"
     ]
    },
    {
     "name": "stdout",
     "output_type": "stream",
     "text": [
      "Lasso (scaled)  R = 0.0956\n"
     ]
    }
   ],
   "source": [
    "from sklearn.linear_model import RidgeCV, LassoCV\n",
    "from scipy.stats import pearsonr\n",
    "from sklearn.pipeline import make_pipeline\n",
    "from sklearn.preprocessing import StandardScaler\n",
    "\n",
    "# set up alphas to search\n",
    "alphas = np.logspace(-4, 2, 30)\n",
    "\n",
    "# Ridge\n",
    "ridge = RidgeCV(alphas=alphas, cv=3).fit(X_tr, y_tr)\n",
    "ridge_preds = ridge.predict(X_val)\n",
    "print(\"Ridge  R:\", pearsonr(y_val, ridge_preds)[0].round(4))\n",
    "\n",
    "# build a scaler + lasso pipeline\n",
    "lasso_pipe = make_pipeline(\n",
    "    StandardScaler(),\n",
    "    LassoCV(\n",
    "        alphas = np.logspace(-4, 2, 30),\n",
    "        cv = 3,\n",
    "        max_iter = 10000,      # give it more room to converge\n",
    "        tol = 1e-4,\n",
    "        n_jobs = -1\n",
    "    )\n",
    ")\n",
    "\n",
    "# fit on your training slice\n",
    "lasso_pipe.fit(X_tr, y_tr)\n",
    "\n",
    "# predict and evaluate on validation\n",
    "lasso_preds = lasso_pipe.predict(X_val)\n",
    "r_lasso = pearsonr(y_val, lasso_preds)[0]\n",
    "print(f\"Lasso (scaled)  R = {r_lasso:.4f}\")"
   ]
  },
  {
   "cell_type": "code",
   "execution_count": null,
   "id": "921d33c8",
   "metadata": {},
   "outputs": [],
   "source": [
    "import lightgbm as lgb\n",
    "from scipy.stats import pearsonr\n",
    "\n",
    "# build dataset\n",
    "dtrain = lgb.Dataset(X_tr, label=y_tr)\n",
    "dval   = lgb.Dataset(X_val, label=y_val)\n",
    "\n",
    "params = {\n",
    "    \"objective\": \"regression\",\n",
    "    \"metric\":    \"None\",\n",
    "    \"learning_rate\": 0.05,\n",
    "    \"num_leaves\":    64,\n",
    "    \"min_data_in_leaf\": 100,\n",
    "    \"verbose\":      -1,\n",
    "}\n",
    "\n",
    "gbm = lgb.train(\n",
    "    params,\n",
    "    dtrain,\n",
    "    num_boost_round=1000,\n",
    "    valid_sets=[dval],\n",
    "    early_stopping_rounds=50,\n",
    "    feval=lambda preds, ds: (\"pearson\", pearsonr(ds.get_label(), preds)[0], True)\n",
    ")\n",
    "\n",
    "val_pred_gbm = gbm.predict(X_val)\n",
    "print(\"LightGBM R:\", pearsonr(y_val, val_pred_gbm)[0].round(4))"
   ]
  }
 ],
 "metadata": {
  "kernelspec": {
   "display_name": "Python 3",
   "language": "python",
   "name": "python3"
  },
  "language_info": {
   "codemirror_mode": {
    "name": "ipython",
    "version": 3
   },
   "file_extension": ".py",
   "mimetype": "text/x-python",
   "name": "python",
   "nbconvert_exporter": "python",
   "pygments_lexer": "ipython3",
   "version": "3.13.2"
  }
 },
 "nbformat": 4,
 "nbformat_minor": 5
}
